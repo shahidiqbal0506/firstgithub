{
 "cells": [
  {
   "cell_type": "markdown",
   "id": "9791ac63",
   "metadata": {},
   "source": [
    "# Python ka Chilla with #baba_aammar\n",
    "## How to use Jupyter Note Book\n",
    "## Basics of Python\n",
    "##**01 - My First Program**"
   ]
  },
  {
   "cell_type": "code",
   "execution_count": 1,
   "id": "41c85fb2",
   "metadata": {},
   "outputs": [
    {
     "name": "stdout",
     "output_type": "stream",
     "text": [
      "14\n",
      "Hello World\n",
      "We are learning python with Ammar\n"
     ]
    }
   ],
   "source": [
    "print(5+9)\n",
    "print(\"Hello World\")\n",
    "print(\"We are learning python with Ammar\")"
   ]
  },
  {
   "cell_type": "markdown",
   "id": "eb250a4a",
   "metadata": {},
   "source": [
    "##**02 - Operators**"
   ]
  },
  {
   "cell_type": "code",
   "execution_count": 2,
   "id": "80cd3ab6",
   "metadata": {},
   "outputs": [
    {
     "name": "stdout",
     "output_type": "stream",
     "text": [
      "10\n",
      "2\n",
      "10\n",
      "3.25\n",
      "3\n",
      "2\n",
      "81\n",
      "2387.333333333333\n"
     ]
    }
   ],
   "source": [
    "print (3+7)\n",
    "print (9-7)\n",
    "print (2*5)\n",
    "print (13/4)\n",
    "print (13//4)\n",
    "print (17%3)\n",
    "print (3**4)\n",
    "print (4**5/3*7-10+8)"
   ]
  },
  {
   "cell_type": "markdown",
   "id": "05fe596f",
   "metadata": {},
   "source": [
    "*PEMDAS\n",
    "Paranthesis Exponent Multiply Divide Addition Substraction\n",
    "Left to right sequence for M D & A S*"
   ]
  },
  {
   "cell_type": "markdown",
   "id": "e3810cf8",
   "metadata": {},
   "source": [
    "##**03 - Strings**"
   ]
  },
  {
   "cell_type": "code",
   "execution_count": 3,
   "id": "75714934",
   "metadata": {},
   "outputs": [
    {
     "name": "stdout",
     "output_type": "stream",
     "text": [
      "Hello World\n",
      "We are learning python with Ammar\n",
      "Test for single quotes\n",
      "test for double quotes\n",
      "test foe triple quotes\n",
      "What's up?\n"
     ]
    }
   ],
   "source": [
    "print(\"Hello World\")\n",
    "print(\"We are learning python with Ammar\")\n",
    "print ('Test for single quotes')\n",
    "print (\"test for double quotes\")\n",
    "print ('''test foe triple quotes''')\n",
    "print(\"What's up?\")"
   ]
  },
  {
   "cell_type": "markdown",
   "id": "afa9758f",
   "metadata": {},
   "source": [
    "##**04 - Comments**\n",
    "The shortcut key to comments is **Ctrl+/"
   ]
  },
  {
   "cell_type": "code",
   "execution_count": 4,
   "id": "d3eb695b",
   "metadata": {},
   "outputs": [
    {
     "name": "stdout",
     "output_type": "stream",
     "text": [
      "How are you?\n",
      "We are learning python with Aammar\n",
      "15\n"
     ]
    }
   ],
   "source": [
    "print(\"How are you?\") # press these to comment out (Ctrl + /)\n",
    "print(\"We are learning python with Aammar\") # print a string\n",
    "print(8+7) # print operators with numbers"
   ]
  },
  {
   "cell_type": "markdown",
   "id": "e4c9b790",
   "metadata": {},
   "source": [
    "##**05 - Variables**"
   ]
  },
  {
   "cell_type": "code",
   "execution_count": 5,
   "id": "751fc8aa",
   "metadata": {},
   "outputs": [
    {
     "name": "stdout",
     "output_type": "stream",
     "text": [
      "7\n",
      "We are learning pyhton with Aammar\n",
      "10\n",
      "<class 'int'>\n",
      "<class 'str'>\n",
      "<class 'str'>\n",
      "Strawberries\n"
     ]
    }
   ],
   "source": [
    "# Variables: objects containing specific values\n",
    "x = 7 # numeric or integer variable\n",
    "print (x) \n",
    "y = \"We are learning pyhton with Aammar\" # string variable\n",
    "print (y)\n",
    "x = x+3 # for x=10\n",
    "print (x)\n",
    "\n",
    "#types of variables\n",
    "print(type(x))\n",
    "print(type(y))\n",
    "\n",
    "# Rules to assign a variable\n",
    "# 1- The variable should contain letters, numbers or underscores\n",
    "# 2- Do not start with numbers\n",
    "# 3- Spaces are not allowed\n",
    "# 4- Do not use keywords used in functions (break, median, mean, etc)\n",
    "# 5- Short and descriptive\n",
    "# 6- Case sensitivity (lowercase, uppercase letters, lowercase letters should be used)\n",
    "\n",
    "fruit_basket=9\n",
    "fruit_basket=\"Strawberries\"\n",
    "print(type(fruit_basket))\n",
    "print(fruit_basket)"
   ]
  },
  {
   "cell_type": "markdown",
   "id": "ec263929",
   "metadata": {},
   "source": [
    "##**06 - Input Variables**"
   ]
  },
  {
   "cell_type": "code",
   "execution_count": 6,
   "id": "692ebbd9",
   "metadata": {},
   "outputs": [
    {
     "name": "stdout",
     "output_type": "stream",
     "text": [
      "Lemon\n",
      "What is your favourite fruit? Apple\n",
      "Apple\n",
      "What is your name? Shahid\n",
      "Hello! Shahid\n",
      "What is your name? Eesa\n",
      "Hello! Eesa\n",
      "What is your name? Shahid\n",
      "How old are you? 32\n",
      "Hello Dear Shahid , You are still young\n"
     ]
    }
   ],
   "source": [
    "fruit_basket=\"Lemon\"\n",
    "print(fruit_basket)\n",
    "\n",
    "# simple input function\n",
    "fruit_basket=input(\"What is your favourite fruit? \")\n",
    "print (fruit_basket)\n",
    "\n",
    "#2nd stage input function\n",
    "name=input(\"What is your name? \")\n",
    "greetings=\"Hello!\"\n",
    "print(greetings, name)\n",
    "\n",
    "#another way of stage 2 input function\n",
    "name=input(\"What is your name? \")\n",
    "print(\"Hello!\", name)\n",
    "\n",
    "#3rd stage input function\n",
    "name=input(\"What is your name? \")\n",
    "age=input(\"How old are you? \")\n",
    "greetings=\"Hello Dear\"\n",
    "print(greetings, name, \", You are still young\")"
   ]
  },
  {
   "cell_type": "markdown",
   "id": "85928678",
   "metadata": {},
   "source": [
    "##**07 - Conditional Logics**"
   ]
  },
  {
   "cell_type": "code",
   "execution_count": 7,
   "id": "2ac516fc",
   "metadata": {},
   "outputs": [
    {
     "name": "stdout",
     "output_type": "stream",
     "text": [
      "True\n",
      "False\n",
      "False\n",
      "True\n",
      "True\n",
      "True\n",
      "False\n",
      "How old are you? 32\n",
      "<class 'int'>\n",
      "False\n"
     ]
    }
   ],
   "source": [
    "# logical operaters are either \"true or false\" or \"yes or no\" or \"0 or 1\"\n",
    "# equal to                  ==\n",
    "# not equal to              !=\n",
    "# less than                 <\n",
    "# greator than              >\n",
    "# less than and equal to    <=\n",
    "# greatr than and equal to  >=\n",
    "\n",
    "#Is 9 equal to 9?\n",
    "print(9==9)\n",
    "print(9!=9)\n",
    "print(3<1)\n",
    "print(7>5)\n",
    "print(4<=8)\n",
    "print(3>=2)\n",
    "\n",
    "# application of logical operator\n",
    "ali_age=3\n",
    "age_at_school=4\n",
    "print(ali_age==age_at_school)\n",
    "\n",
    "#input function and logical operator\n",
    "age_at_school=5\n",
    "ali_age=input(\"How old are you? \") # input function\n",
    "ali_age=int(ali_age)\n",
    "print(type(ali_age))\n",
    "print(ali_age==age_at_school)"
   ]
  },
  {
   "cell_type": "markdown",
   "id": "9c6414bd",
   "metadata": {},
   "source": [
    "##**08 - Type Conversion**"
   ]
  },
  {
   "cell_type": "code",
   "execution_count": 8,
   "id": "ac94d4b3",
   "metadata": {},
   "outputs": [
    {
     "name": "stdout",
     "output_type": "stream",
     "text": [
      "12.2 Type of x is: <class 'float'>\n",
      "What is your age? 32\n",
      "32 <class 'int'>\n",
      "What is your name? Shahid\n",
      "Shahid <class 'str'>\n"
     ]
    }
   ],
   "source": [
    "x=9         #integer\n",
    "y=3.2       #float\n",
    "z=\"Hello\"   #string\n",
    "\n",
    "#implicit type conversion\n",
    "x=x+y\n",
    "print(x,\"Type of x is:\", type(x))\n",
    "\n",
    "#explicit type conversion\n",
    "age=input(\"What is your age? \")\n",
    "age=int(age)\n",
    "print(age, type(int(age)))\n",
    "\n",
    "#name\n",
    "name=input(\"What is your name? \")\n",
    "print(name, type(str(name)))"
   ]
  },
  {
   "cell_type": "markdown",
   "id": "bb2f3bf4",
   "metadata": {},
   "source": [
    "##**09 - If_Else_Elif**"
   ]
  },
  {
   "cell_type": "code",
   "execution_count": 9,
   "id": "7f3f223a",
   "metadata": {},
   "outputs": [
    {
     "name": "stdout",
     "output_type": "stream",
     "text": [
      "Ali can not go to school\n"
     ]
    }
   ],
   "source": [
    "ali_age=4\n",
    "required_age_at_school=5\n",
    "# can ali go to school?\n",
    "if ali_age==required_age_at_school:\n",
    "    print(\"Ali can join school\")\n",
    "elif ali_age > required_age_at_school:\n",
    "    print(\"Ali should join higher school\")\n",
    "elif ali_age <= 3:\n",
    "    print(\"Ali is still small to go to school\")\n",
    "else:\n",
    "    print(\"Ali can not go to school\")"
   ]
  },
  {
   "cell_type": "markdown",
   "id": "fbf38aab",
   "metadata": {},
   "source": [
    "##**10 - Functions**"
   ]
  },
  {
   "cell_type": "code",
   "execution_count": 10,
   "id": "74eea228",
   "metadata": {},
   "outputs": [
    {
     "name": "stdout",
     "output_type": "stream",
     "text": [
      "We are learning pyhton\n",
      "We are learning pyhton\n",
      "We are learning pyhton\n",
      "We are learning pyhton\n",
      "We are learning python with Aammar\n",
      "We are learning python with Aammar\n",
      "We are learning python with Aammar\n",
      "We are learning python with Aammar\n",
      "We are learning pyhton\n",
      "We are learning pyhton\n",
      "We are learning pyhton\n",
      "We are learning pyhton\n",
      "Ali is still a baby\n",
      "22\n"
     ]
    }
   ],
   "source": [
    "# defining a function\n",
    "\n",
    "# 1st method\n",
    "def print_python_learning():\n",
    "    print(\"We are learning pyhton\")\n",
    "    print(\"We are learning pyhton\")\n",
    "    print(\"We are learning pyhton\")\n",
    "    print(\"We are learning pyhton\")\n",
    "\n",
    "print_python_learning()\n",
    "\n",
    "# 2nd method\n",
    "def print_python_learning():\n",
    "    text=\"We are learning python with Aammar\"\n",
    "    print(text)\n",
    "    print(text)\n",
    "    print(text)\n",
    "    print(text)\n",
    "\n",
    "print_python_learning()\n",
    "\n",
    "# 3rd method\n",
    "def print_python_learning(text):\n",
    "    print(text)\n",
    "    print(text)\n",
    "    print(text)\n",
    "    print(text)\n",
    "\n",
    "print_python_learning(\"We are learning pyhton\")\n",
    "\n",
    "# 4th method\n",
    "#def a function with if, elif and else statements\n",
    "def school_calculator(age):\n",
    "    if age==5:\n",
    "        print(\"Ali can join school\")\n",
    "    elif age>5:\n",
    "        print(\"Ali should join higher school\")\n",
    "    else:\n",
    "        print(\"Ali is still a baby\")\n",
    "\n",
    "school_calculator(4)\n",
    "\n",
    "# defining a function of future\n",
    "def future_age(age):\n",
    "    new_age=age+15\n",
    "    return new_age\n",
    "    print(new_age)\n",
    "future_predicted_age=future_age(7)\n",
    "print(future_predicted_age)"
   ]
  },
  {
   "cell_type": "markdown",
   "id": "b3b572e2",
   "metadata": {},
   "source": [
    "##**11 - Loops**"
   ]
  },
  {
   "cell_type": "code",
   "execution_count": 11,
   "id": "a75a9492",
   "metadata": {},
   "outputs": [
    {
     "name": "stdout",
     "output_type": "stream",
     "text": [
      "0\n",
      "1\n",
      "2\n",
      "3\n",
      "4\n",
      "5\n",
      "6\n",
      "7\n",
      "4\n",
      "5\n",
      "6\n",
      "7\n",
      "8\n",
      "9\n",
      "Mon\n",
      "Tue\n",
      "Thu\n",
      "Fri\n",
      "Sat\n",
      "Sun\n"
     ]
    }
   ],
   "source": [
    "#while and For loops\n",
    "\n",
    "#while loops\n",
    "x=0\n",
    "while (x<=7):\n",
    "    print(x)\n",
    "    x=x+1\n",
    "\n",
    "#for loop\n",
    "for x in range(4,10):\n",
    "    print(x)\n",
    "\n",
    "#array\n",
    "days = [\"Mon\", \"Tue\", \"Wed\", \"Thu\", \"Fri\", \"Sat\", \"Sun\"]\n",
    "for d in days:\n",
    "    # if (d==\"Wed\"):break #loop stops\n",
    "    if (d==\"Wed\"): continue #skips d\n",
    "    print(d)"
   ]
  },
  {
   "cell_type": "markdown",
   "id": "02b2ca55",
   "metadata": {},
   "source": [
    "##**12 - Import Libraries**"
   ]
  },
  {
   "cell_type": "code",
   "execution_count": 12,
   "id": "96209bbc",
   "metadata": {},
   "outputs": [
    {
     "name": "stdout",
     "output_type": "stream",
     "text": [
      "The value of pi is  3.141592653589793\n",
      "191.42857142857142\n"
     ]
    }
   ],
   "source": [
    "# if you want to print the value of pi\n",
    "import math\n",
    "print(\"The value of pi is \", math.pi)\n",
    "\n",
    "import statistics\n",
    "x=[100,140,170,190,210,250,280]\n",
    "print(statistics.mean(x))\n",
    "\n",
    "#numpy, pandas (imp librarries)"
   ]
  },
  {
   "cell_type": "markdown",
   "id": "3743b7d3",
   "metadata": {},
   "source": [
    "##**13 - Trouble Shooting**"
   ]
  },
  {
   "cell_type": "code",
   "execution_count": 13,
   "id": "0214bf58",
   "metadata": {
    "scrolled": true
   },
   "outputs": [
    {
     "name": "stdout",
     "output_type": "stream",
     "text": [
      "Hello Shahid\n"
     ]
    }
   ],
   "source": [
    "# print(we are learning python) #syntax error\n",
    "\n",
    "# print(14/0) #runtime error\n",
    "\n",
    "name=\"Shahid\"\n",
    "print(\"Hello\", name)"
   ]
  }
 ],
 "metadata": {
  "kernelspec": {
   "display_name": "Python 3 (ipykernel)",
   "language": "python",
   "name": "python3"
  },
  "language_info": {
   "codemirror_mode": {
    "name": "ipython",
    "version": 3
   },
   "file_extension": ".py",
   "mimetype": "text/x-python",
   "name": "python",
   "nbconvert_exporter": "python",
   "pygments_lexer": "ipython3",
   "version": "3.9.7"
  }
 },
 "nbformat": 4,
 "nbformat_minor": 5
}
